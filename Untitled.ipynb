{
 "cells": [
  {
   "cell_type": "code",
   "execution_count": 3,
   "metadata": {
    "collapsed": true
   },
   "outputs": [],
   "source": [
    "def fizzbuzz(intList):\n",
    "    '''\n",
    "    Your fizzbuzz function. The grader will run `fizzbuzz(intList)` to check if your\n",
    "    function returns the correct output.\n",
    "    \n",
    "    intList: list containing integers\n",
    "\n",
    "    Make sure you write the script so that your algorithm is part of the\n",
    "    function; you do not need to call the function yourself.\n",
    "    '''\n",
    "    return [(('Fizz' if x%3==0 else '') + ('Buzz' if x%5==0 else '')) if (x%3==0) | (x%5==0) else x for x in intList]"
   ]
  },
  {
   "cell_type": "code",
   "execution_count": 4,
   "metadata": {
    "collapsed": false
   },
   "outputs": [
    {
     "data": {
      "text/plain": [
       "[1,\n",
       " 2,\n",
       " 'Fizz',\n",
       " 4,\n",
       " 'Buzz',\n",
       " 'Fizz',\n",
       " 7,\n",
       " 8,\n",
       " 'Fizz',\n",
       " 'Buzz',\n",
       " 11,\n",
       " 'Fizz',\n",
       " 13,\n",
       " 14,\n",
       " 'FizzBuzz',\n",
       " 16,\n",
       " 17,\n",
       " 'Fizz',\n",
       " 19,\n",
       " 'Buzz',\n",
       " 'Fizz',\n",
       " 22,\n",
       " 23,\n",
       " 'Fizz',\n",
       " 'Buzz',\n",
       " 26,\n",
       " 'Fizz',\n",
       " 28,\n",
       " 29,\n",
       " 'FizzBuzz']"
      ]
     },
     "execution_count": 4,
     "metadata": {},
     "output_type": "execute_result"
    }
   ],
   "source": [
    "fizzbuzz(range(1,31))"
   ]
  },
  {
   "cell_type": "code",
   "execution_count": 6,
   "metadata": {
    "collapsed": false
   },
   "outputs": [
    {
     "data": {
      "text/plain": [
       "0.00980392156862745"
      ]
     },
     "execution_count": 6,
     "metadata": {},
     "output_type": "execute_result"
    }
   ],
   "source": [
    "99./(99+9999)"
   ]
  },
  {
   "cell_type": "code",
   "execution_count": 1,
   "metadata": {
    "collapsed": true
   },
   "outputs": [],
   "source": [
    "# To experiment with this code freely you will have to run this code locally.\n",
    "# Take a look at the main() function for an example of how to use the code.\n",
    "# We have provided example json output in the other code editor tabs for you to\n",
    "# look at, but you will not be able to run any queries through our UI.\n",
    "import json\n",
    "import requests\n",
    "\n",
    "\n",
    "BASE_URL = \"http://musicbrainz.org/ws/2/\"\n",
    "ARTIST_URL = BASE_URL + \"artist/\"\n",
    "\n",
    "# query parameters are given to the requests.get function as a dictionary; this\n",
    "# variable contains some starter parameters.\n",
    "query_type = {  \"simple\": {},\n",
    "                \"atr\": {\"inc\": \"aliases+tags+ratings\"},\n",
    "                \"aliases\": {\"inc\": \"aliases\"},\n",
    "                \"releases\": {\"inc\": \"releases\"}}\n",
    "\n",
    "\n",
    "def query_site(url, params, uid=\"\", fmt=\"json\"):\n",
    "    # This is the main function for making queries to the musicbrainz API.\n",
    "    # A json document should be returned by the query.\n",
    "    params[\"fmt\"] = fmt\n",
    "    r = requests.get(url + uid, params=params)\n",
    "    print \"requesting\", r.url\n",
    "\n",
    "    if r.status_code == requests.codes.ok:\n",
    "        return r.json()\n",
    "    else:\n",
    "        r.raise_for_status()\n",
    "\n",
    "\n",
    "def query_by_name(url, params, name):\n",
    "    # This adds an artist name to the query parameters before making\n",
    "    # an API call to the function above.\n",
    "    params[\"query\"] = \"artist:\" + name\n",
    "    return query_site(url, params)\n",
    "\n",
    "\n",
    "def pretty_print(data, indent=4):\n",
    "    # After we get our output, we can format it to be more readable\n",
    "    # by using this function.\n",
    "    if type(data) == dict:\n",
    "        print json.dumps(data, indent=indent, sort_keys=True)\n",
    "    else:\n",
    "        print data\n",
    "\n"
   ]
  },
  {
   "cell_type": "code",
   "execution_count": null,
   "metadata": {
    "collapsed": true
   },
   "outputs": [],
   "source": [
    "\n",
    "results = query_by_name(ARTIST_URL, query_type[\"simple\"], \"Nirvana\")\n",
    "pretty_print(results)\n",
    "\n",
    "artist_id = results[\"artists\"][1][\"id\"]\n",
    "print \"\\nARTIST:\"\n",
    "pretty_print(results[\"artists\"][1])\n",
    "\n",
    "artist_data = query_site(ARTIST_URL, query_type[\"releases\"], artist_id)\n",
    "releases = artist_data[\"releases\"]\n",
    "print \"\\nONE RELEASE:\"\n",
    "pretty_print(releases[0], indent=2)\n",
    "release_titles = [r[\"title\"] for r in releases]\n",
    "\n",
    "print \"\\nALL TITLES:\"\n",
    "for t in release_titles:\n",
    "    print t"
   ]
  },
  {
   "cell_type": "code",
   "execution_count": 13,
   "metadata": {
    "collapsed": false,
    "scrolled": false
   },
   "outputs": [
    {
     "name": "stdout",
     "output_type": "stream",
     "text": [
      "requesting http://musicbrainz.org/ws/2/artist/?query=artist%3AOne+Direction&fmt=json\n",
      "{\n",
      "    \"artists\": [\n",
      "        {\n",
      "            \"area\": {\n",
      "                \"id\": \"8a754a16-0027-3a29-b6d7-2b40ea0481ed\", \n",
      "                \"name\": \"United Kingdom\", \n",
      "                \"sort-name\": \"United Kingdom\"\n",
      "            }, \n",
      "            \"begin-area\": {\n",
      "                \"id\": \"f03d09b3-39dc-4083-afd6-159e3f0d462f\", \n",
      "                \"name\": \"London\", \n",
      "                \"sort-name\": \"London\"\n",
      "            }, \n",
      "            \"country\": \"GB\", \n",
      "            \"disambiguation\": \"English-Irish boy band formed in 2010\", \n",
      "            \"id\": \"1a425bbd-cca4-4b2c-aeb7-71cb176c828a\", \n",
      "            \"life-span\": {\n",
      "                \"begin\": \"2010-07\", \n",
      "                \"ended\": null\n",
      "            }, \n",
      "            \"name\": \"One Direction\", \n",
      "            \"score\": \"100\", \n",
      "            \"sort-name\": \"One Direction\", \n",
      "            \"tags\": [\n",
      "                {\n",
      "                    \"count\": 2, \n",
      "                    \"name\": \"pop\"\n",
      "                }, \n",
      "                {\n",
      "                    \"count\": 1, \n",
      "                    \"name\": \"power pop\"\n",
      "                }, \n",
      "                {\n",
      "                    \"count\": 1, \n",
      "                    \"name\": \"dance-pop\"\n",
      "                }, \n",
      "                {\n",
      "                    \"count\": 1, \n",
      "                    \"name\": \"pop rock\"\n",
      "                }, \n",
      "                {\n",
      "                    \"count\": 1, \n",
      "                    \"name\": \"folk pop\"\n",
      "                }, \n",
      "                {\n",
      "                    \"count\": 2, \n",
      "                    \"name\": \"boy band\"\n",
      "                }\n",
      "            ], \n",
      "            \"type\": \"Group\"\n",
      "        }, \n",
      "        {\n",
      "            \"area\": {\n",
      "                \"id\": \"489ce91b-6658-3307-9877-795b68554c98\", \n",
      "                \"name\": \"United States\", \n",
      "                \"sort-name\": \"United States\"\n",
      "            }, \n",
      "            \"country\": \"US\", \n",
      "            \"disambiguation\": \"San Francisco band\", \n",
      "            \"id\": \"d3479e62-76ac-4aec-9f95-5b222d1e26b1\", \n",
      "            \"life-span\": {\n",
      "                \"ended\": null\n",
      "            }, \n",
      "            \"name\": \"Direction\", \n",
      "            \"score\": \"69\", \n",
      "            \"sort-name\": \"Direction\", \n",
      "            \"type\": \"Group\"\n",
      "        }, \n",
      "        {\n",
      "            \"area\": {\n",
      "                \"id\": \"b2bc1294-77be-4c7b-af93-9868b83b1f34\", \n",
      "                \"name\": \"Auckland\", \n",
      "                \"sort-name\": \"Auckland\"\n",
      "            }, \n",
      "            \"disambiguation\": \"New Zealand punk?\", \n",
      "            \"id\": \"a234ebb0-0399-4253-baf6-2ae0abc9d8f2\", \n",
      "            \"life-span\": {\n",
      "                \"ended\": null\n",
      "            }, \n",
      "            \"name\": \"Direction\", \n",
      "            \"score\": \"47\", \n",
      "            \"sort-name\": \"Direction\"\n",
      "        }, \n",
      "        {\n",
      "            \"area\": {\n",
      "                \"id\": \"ef1b7cc0-cd26-36f4-8ea0-04d9623786c7\", \n",
      "                \"name\": \"Netherlands\", \n",
      "                \"sort-name\": \"Netherlands\"\n",
      "            }, \n",
      "            \"begin-area\": {\n",
      "                \"id\": \"0b565bc6-05e7-4c3a-bc28-075fabd9a8d0\", \n",
      "                \"name\": \"Maastricht\", \n",
      "                \"sort-name\": \"Maastricht\"\n",
      "            }, \n",
      "            \"country\": \"NL\", \n",
      "            \"id\": \"574236dc-aa46-4194-8200-6cb039e9ddbd\", \n",
      "            \"life-span\": {\n",
      "                \"begin\": \"1989\", \n",
      "                \"end\": \"2008\", \n",
      "                \"ended\": true\n",
      "            }, \n",
      "            \"name\": \"Right Direction\", \n",
      "            \"score\": \"43\", \n",
      "            \"sort-name\": \"Right Direction\", \n",
      "            \"type\": \"Group\"\n",
      "        }, \n",
      "        {\n",
      "            \"id\": \"cfd2b787-3656-44ce-9212-9e555b400af5\", \n",
      "            \"life-span\": {\n",
      "                \"ended\": null\n",
      "            }, \n",
      "            \"name\": \"New Direction\", \n",
      "            \"score\": \"43\", \n",
      "            \"sort-name\": \"New Direction\"\n",
      "        }, \n",
      "        {\n",
      "            \"id\": \"2524b4ea-965f-4628-b940-acd0a9210047\", \n",
      "            \"life-span\": {\n",
      "                \"ended\": null\n",
      "            }, \n",
      "            \"name\": \"Lost Direction\", \n",
      "            \"score\": \"43\", \n",
      "            \"sort-name\": \"Lost Direction\"\n",
      "        }, \n",
      "        {\n",
      "            \"id\": \"a32cc520-f2e6-4db2-8b61-c7baca599ef5\", \n",
      "            \"life-span\": {\n",
      "                \"ended\": null\n",
      "            }, \n",
      "            \"name\": \"Second Direction\", \n",
      "            \"score\": \"43\", \n",
      "            \"sort-name\": \"Second Direction\"\n",
      "        }, \n",
      "        {\n",
      "            \"id\": \"75fb2c35-4f3a-4145-b948-da871176f039\", \n",
      "            \"life-span\": {\n",
      "                \"ended\": null\n",
      "            }, \n",
      "            \"name\": \"Disco Direction\", \n",
      "            \"score\": \"43\", \n",
      "            \"sort-name\": \"Disco Direction\"\n",
      "        }, \n",
      "        {\n",
      "            \"id\": \"9e9d35c3-ce54-4a48-b3ba-4eebdadc1ed8\", \n",
      "            \"life-span\": {\n",
      "                \"ended\": null\n",
      "            }, \n",
      "            \"name\": \"Audio Direction\", \n",
      "            \"score\": \"43\", \n",
      "            \"sort-name\": \"Audio Direction\"\n",
      "        }, \n",
      "        {\n",
      "            \"id\": \"355fa6a9-dba2-43b0-bd0f-a9e6dc14c79f\", \n",
      "            \"life-span\": {\n",
      "                \"ended\": null\n",
      "            }, \n",
      "            \"name\": \"Direction X\", \n",
      "            \"score\": \"43\", \n",
      "            \"sort-name\": \"Direction X\", \n",
      "            \"type\": \"Group\"\n",
      "        }, \n",
      "        {\n",
      "            \"id\": \"74c2fbfc-0ced-4f8a-9da6-7df628755757\", \n",
      "            \"life-span\": {\n",
      "                \"ended\": null\n",
      "            }, \n",
      "            \"name\": \"No Direction\", \n",
      "            \"score\": \"43\", \n",
      "            \"sort-name\": \"No Direction\", \n",
      "            \"type\": \"Group\"\n",
      "        }, \n",
      "        {\n",
      "            \"id\": \"7c4e4dc0-6a0e-4887-b374-0cc57749f563\", \n",
      "            \"life-span\": {\n",
      "                \"ended\": null\n",
      "            }, \n",
      "            \"name\": \"Direction Indicator\", \n",
      "            \"score\": \"43\", \n",
      "            \"sort-name\": \"Direction Indicator\"\n",
      "        }, \n",
      "        {\n",
      "            \"id\": \"6130ddae-22dd-4930-ba0f-6d59f81d3637\", \n",
      "            \"life-span\": {\n",
      "                \"begin\": \"2009-08\", \n",
      "                \"ended\": null\n",
      "            }, \n",
      "            \"name\": \"The Direction\", \n",
      "            \"score\": \"43\", \n",
      "            \"sort-name\": \"Direction, The\", \n",
      "            \"type\": \"Group\"\n",
      "        }, \n",
      "        {\n",
      "            \"area\": {\n",
      "                \"id\": \"489ce91b-6658-3307-9877-795b68554c98\", \n",
      "                \"name\": \"United States\", \n",
      "                \"sort-name\": \"United States\"\n",
      "            }, \n",
      "            \"country\": \"US\", \n",
      "            \"disambiguation\": \"USA punk band\", \n",
      "            \"id\": \"d554887e-2e17-48f4-8610-624a944a9329\", \n",
      "            \"life-span\": {\n",
      "                \"ended\": null\n",
      "            }, \n",
      "            \"name\": \"No Direction\", \n",
      "            \"score\": \"43\", \n",
      "            \"sort-name\": \"No Direction\", \n",
      "            \"tags\": [\n",
      "                {\n",
      "                    \"count\": 1, \n",
      "                    \"name\": \"punk\"\n",
      "                }, \n",
      "                {\n",
      "                    \"count\": 1, \n",
      "                    \"name\": \"usa\"\n",
      "                }\n",
      "            ], \n",
      "            \"type\": \"Group\"\n",
      "        }, \n",
      "        {\n",
      "            \"id\": \"ce85410c-10e4-4b2e-a878-72483fcf0884\", \n",
      "            \"life-span\": {\n",
      "                \"ended\": null\n",
      "            }, \n",
      "            \"name\": \"7th Direction\", \n",
      "            \"score\": \"43\", \n",
      "            \"sort-name\": \"7th Direction\"\n",
      "        }, \n",
      "        {\n",
      "            \"id\": \"47813cd0-be78-48ab-802f-1306fc180124\", \n",
      "            \"life-span\": {\n",
      "                \"ended\": null\n",
      "            }, \n",
      "            \"name\": \"Loose Direction\", \n",
      "            \"score\": \"43\", \n",
      "            \"sort-name\": \"Loose Direction\"\n",
      "        }, \n",
      "        {\n",
      "            \"id\": \"65cd1bef-0de3-439e-a2fc-a71c308c6359\", \n",
      "            \"life-span\": {\n",
      "                \"ended\": null\n",
      "            }, \n",
      "            \"name\": \"\\u9ad8\\u67f3\\u660c\\u884c New Direction\", \n",
      "            \"score\": \"38\", \n",
      "            \"sort-name\": \"Masayuki Takayanagi New Direction\"\n",
      "        }, \n",
      "        {\n",
      "            \"aliases\": [\n",
      "                {\n",
      "                    \"begin-date\": null, \n",
      "                    \"end-date\": null, \n",
      "                    \"locale\": null, \n",
      "                    \"name\": \"Masayuki \\\"Jojo\\\" Takayanagi* & New Direction For The Arts\", \n",
      "                    \"primary\": null, \n",
      "                    \"sort-name\": \"Masayuki \\\"Jojo\\\" Takayanagi* & New Direction For The Arts\", \n",
      "                    \"type\": null\n",
      "                }\n",
      "            ], \n",
      "            \"area\": {\n",
      "                \"id\": \"2db42837-c832-3c27-b4a3-08198f75693c\", \n",
      "                \"name\": \"Japan\", \n",
      "                \"sort-name\": \"Japan\"\n",
      "            }, \n",
      "            \"country\": \"JP\", \n",
      "            \"id\": \"8367123e-9a2b-4f1a-ad22-52dee85b144a\", \n",
      "            \"life-span\": {\n",
      "                \"ended\": null\n",
      "            }, \n",
      "            \"name\": \"New Direction for the Arts\", \n",
      "            \"score\": \"36\", \n",
      "            \"sort-name\": \"New Direction for the Arts\", \n",
      "            \"type\": \"Group\"\n",
      "        }, \n",
      "        {\n",
      "            \"id\": \"3ccdd708-a6f2-4117-938d-4b23f045cbbb\", \n",
      "            \"life-span\": {\n",
      "                \"ended\": null\n",
      "            }, \n",
      "            \"name\": \"The New Transit Direction\", \n",
      "            \"score\": \"34\", \n",
      "            \"sort-name\": \"New Transit Direction, The\"\n",
      "        }, \n",
      "        {\n",
      "            \"area\": {\n",
      "                \"id\": \"71bbafaa-e825-3e15-8ca9-017dcad1748b\", \n",
      "                \"name\": \"Canada\", \n",
      "                \"sort-name\": \"Canada\"\n",
      "            }, \n",
      "            \"country\": \"CA\", \n",
      "            \"id\": \"e0027978-441c-4877-b36f-0d2833181a42\", \n",
      "            \"life-span\": {\n",
      "                \"ended\": null\n",
      "            }, \n",
      "            \"name\": \"The Beat Direction\", \n",
      "            \"score\": \"34\", \n",
      "            \"sort-name\": \"Beat Direction, The\", \n",
      "            \"type\": \"Group\"\n",
      "        }, \n",
      "        {\n",
      "            \"disambiguation\": \"rock\", \n",
      "            \"id\": \"dffb4132-bfd1-4c23-8128-31c23d0b6fe9\", \n",
      "            \"life-span\": {\n",
      "                \"ended\": null\n",
      "            }, \n",
      "            \"name\": \"Found My Direction\", \n",
      "            \"score\": \"34\", \n",
      "            \"sort-name\": \"Found My Direction\"\n",
      "        }, \n",
      "        {\n",
      "            \"area\": {\n",
      "                \"id\": \"85752fda-13c4-31a3-bee5-0e5cb1f51dad\", \n",
      "                \"name\": \"Germany\", \n",
      "                \"sort-name\": \"Germany\"\n",
      "            }, \n",
      "            \"country\": \"DE\", \n",
      "            \"disambiguation\": \"Hardcore/Gabber DJ Team\", \n",
      "            \"id\": \"06a2966d-95c1-4e20-a4d6-26e15d1d7e69\", \n",
      "            \"life-span\": {\n",
      "                \"begin\": \"2010\", \n",
      "                \"ended\": null\n",
      "            }, \n",
      "            \"name\": \"Tensor & Re-Direction\", \n",
      "            \"score\": \"34\", \n",
      "            \"sort-name\": \"Tensor & Re-Direction\", \n",
      "            \"type\": \"Group\"\n",
      "        }, \n",
      "        {\n",
      "            \"id\": \"982461f8-d0e0-44c0-9aa3-9ce9df28c71a\", \n",
      "            \"life-span\": {\n",
      "                \"ended\": null\n",
      "            }, \n",
      "            \"name\": \"Moving in The Right Direction\", \n",
      "            \"score\": \"31\", \n",
      "            \"sort-name\": \"Moving in The Right Direction\"\n",
      "        }, \n",
      "        {\n",
      "            \"disambiguation\": \"Church choir at Lourdes\", \n",
      "            \"id\": \"c2485094-3ac9-4632-b8d8-aacae7df3b6f\", \n",
      "            \"life-span\": {\n",
      "                \"ended\": null\n",
      "            }, \n",
      "            \"name\": \"Chorale et assembl\\u00e9e sous la direction de Jean Zune\", \n",
      "            \"score\": \"30\", \n",
      "            \"sort-name\": \"Chorale et assembl\\u00e9e sous la direction de Jean Zune\"\n",
      "        }, \n",
      "        {\n",
      "            \"id\": \"043456b7-0156-4a8d-9591-3018af75ced1\", \n",
      "            \"life-span\": {\n",
      "                \"ended\": null\n",
      "            }, \n",
      "            \"name\": \"Orchestre Symphonique National direction Wal-Berg\", \n",
      "            \"score\": \"28\", \n",
      "            \"sort-name\": \"Orchestre Symphonique National direction Wal-Berg\"\n",
      "        }\n",
      "    ], \n",
      "    \"count\": 1657, \n",
      "    \"created\": \"2016-10-02T09:42:59.54Z\", \n",
      "    \"offset\": 0\n",
      "}\n"
     ]
    }
   ],
   "source": [
    "results = query_by_name(ARTIST_URL, query_type[\"simple\"], \"One Direction\")\n",
    "pretty_print(results)"
   ]
  },
  {
   "cell_type": "code",
   "execution_count": 20,
   "metadata": {
    "collapsed": false
   },
   "outputs": [],
   "source": [
    "_ = results['artists']"
   ]
  },
  {
   "cell_type": "code",
   "execution_count": 21,
   "metadata": {
    "collapsed": true
   },
   "outputs": [],
   "source": [
    "x = [1,2,3]"
   ]
  },
  {
   "cell_type": "code",
   "execution_count": 24,
   "metadata": {
    "collapsed": false
   },
   "outputs": [
    {
     "data": {
      "text/plain": [
       "[2, 3]"
      ]
     },
     "execution_count": 24,
     "metadata": {},
     "output_type": "execute_result"
    }
   ],
   "source": [
    "x[1:]"
   ]
  },
  {
   "cell_type": "code",
   "execution_count": 1,
   "metadata": {
    "collapsed": true
   },
   "outputs": [],
   "source": [
    "import re"
   ]
  },
  {
   "cell_type": "code",
   "execution_count": 17,
   "metadata": {
    "collapsed": false
   },
   "outputs": [
    {
     "data": {
      "text/plain": [
       "'Dupa'"
      ]
     },
     "execution_count": 17,
     "metadata": {},
     "output_type": "execute_result"
    }
   ],
   "source": [
    "re.findall('[A-Za-z0-9]*','Dupa')[0]"
   ]
  },
  {
   "cell_type": "code",
   "execution_count": 19,
   "metadata": {
    "collapsed": false
   },
   "outputs": [
    {
     "data": {
      "text/plain": [
       "['aaa']"
      ]
     },
     "execution_count": 19,
     "metadata": {},
     "output_type": "execute_result"
    }
   ],
   "source": [
    "'aaa'.split('|')"
   ]
  },
  {
   "cell_type": "code",
   "execution_count": 21,
   "metadata": {
    "collapsed": false
   },
   "outputs": [
    {
     "name": "stdout",
     "output_type": "stream",
     "text": [
      "dwie\n"
     ]
    }
   ],
   "source": [
    "if None:\n",
    "    print 'dupa'\n",
    "else:\n",
    "    print 'dwie'"
   ]
  },
  {
   "cell_type": "code",
   "execution_count": 22,
   "metadata": {
    "collapsed": true
   },
   "outputs": [],
   "source": [
    "import re"
   ]
  },
  {
   "cell_type": "code",
   "execution_count": 23,
   "metadata": {
    "collapsed": false
   },
   "outputs": [
    {
     "data": {
      "text/plain": [
       "'Dupa '"
      ]
     },
     "execution_count": 23,
     "metadata": {},
     "output_type": "execute_result"
    }
   ],
   "source": [
    "re.sub('\\(.*\\)','','Dupa (dwie)')"
   ]
  },
  {
   "cell_type": "code",
   "execution_count": null,
   "metadata": {
    "collapsed": true
   },
   "outputs": [],
   "source": []
  }
 ],
 "metadata": {
  "anaconda-cloud": {},
  "kernelspec": {
   "display_name": "Python [conda root]",
   "language": "python",
   "name": "conda-root-py"
  },
  "language_info": {
   "codemirror_mode": {
    "name": "ipython",
    "version": 2
   },
   "file_extension": ".py",
   "mimetype": "text/x-python",
   "name": "python",
   "nbconvert_exporter": "python",
   "pygments_lexer": "ipython2",
   "version": "2.7.12"
  }
 },
 "nbformat": 4,
 "nbformat_minor": 0
}
