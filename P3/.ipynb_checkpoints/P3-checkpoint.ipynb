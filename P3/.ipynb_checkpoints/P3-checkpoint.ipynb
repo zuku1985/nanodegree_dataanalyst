{
 "cells": [
  {
   "cell_type": "code",
   "execution_count": null,
   "metadata": {
    "collapsed": false
   },
   "outputs": [],
   "source": [
    "import pandas as pd\n",
    "import numpy as np\n",
    "from scipy.stats import pearsonr, chi2_contingency\n",
    "import seaborn as sns\n",
    "%matplotlib inline"
   ]
  },
  {
   "cell_type": "code",
   "execution_count": null,
   "metadata": {
    "collapsed": true
   },
   "outputs": [],
   "source": []
  },
  {
   "cell_type": "code",
   "execution_count": null,
   "metadata": {
    "collapsed": true
   },
   "outputs": [],
   "source": [
    "def plot_count(col_name):\n",
    "    data.groupby(col_name).agg({'PassengerId':'count'}).plot(kind='bar');\n",
    "    \n",
    "def tab_count_surv(col_name):\n",
    "    return data.groupby(col_name).agg({'PassengerId':'count','Survived':np.mean})\n",
    "    \n",
    "def chi2_pvalue(col_name):\n",
    "    return 'P-value: ' + str(chi2_contingency(data.groupby(col_name).agg({'PassengerId':'count','Survived':np.sum}).values)[1])"
   ]
  },
  {
   "cell_type": "code",
   "execution_count": null,
   "metadata": {
    "collapsed": true
   },
   "outputs": [],
   "source": [
    "data = pd.read_csv('./data/titanic-data.csv')"
   ]
  },
  {
   "cell_type": "code",
   "execution_count": null,
   "metadata": {
    "collapsed": false
   },
   "outputs": [],
   "source": [
    "data.head()"
   ]
  },
  {
   "cell_type": "code",
   "execution_count": null,
   "metadata": {
    "collapsed": false
   },
   "outputs": [],
   "source": [
    "data.shape"
   ]
  },
  {
   "cell_type": "markdown",
   "metadata": {},
   "source": [
    "There are data about 891 passengers.\n",
    "Data set contains information about survival, class, name, sex, age, number of siblings/spouses aboard, number of parents/children aboard, fare, cabin and port in which passenger embarked.\n",
    "\n",
    "I would like to recalculate some variables to obtain\n",
    "- total number of family members aboard\n",
    "- indicator variables about having family, parents/chidren, siblings/spouse aboard\n",
    "- indicator variable of missing values in Cabin\n",
    "\n",
    "Main question I would like to answer is if there are any indicators allowing to predict survival. I would like also check some interactions between variables (ie. age and parch). I will also check if relations which shouldn't be present in dataset (like embarkment port and survival) are really missing.\n",
    "\n",
    "As this is only exploratory analysis most of the results will not be statistically tested for significance"
   ]
  },
  {
   "cell_type": "code",
   "execution_count": null,
   "metadata": {
    "collapsed": true
   },
   "outputs": [],
   "source": [
    "data['family']=data['SibSp']+data['Parch']"
   ]
  },
  {
   "cell_type": "code",
   "execution_count": null,
   "metadata": {
    "collapsed": true
   },
   "outputs": [],
   "source": [
    "data['has_family']=data['family'].apply(lambda x: 1 if x>0 else 0)"
   ]
  },
  {
   "cell_type": "code",
   "execution_count": null,
   "metadata": {
    "collapsed": true
   },
   "outputs": [],
   "source": [
    "data['has_Parch']=data['Parch'].apply(lambda x: 1 if x>0 else 0)"
   ]
  },
  {
   "cell_type": "code",
   "execution_count": null,
   "metadata": {
    "collapsed": true
   },
   "outputs": [],
   "source": [
    "data['has_SibSp']=data['SibSp'].apply(lambda x: 1 if x>0 else 0)"
   ]
  },
  {
   "cell_type": "code",
   "execution_count": null,
   "metadata": {
    "collapsed": false
   },
   "outputs": [],
   "source": [
    "data['has_cabin']=data['Cabin'].apply(lambda x: 1 if str(x)!='nan' else 0)"
   ]
  },
  {
   "cell_type": "code",
   "execution_count": null,
   "metadata": {
    "collapsed": false
   },
   "outputs": [],
   "source": [
    "data.describe()"
   ]
  },
  {
   "cell_type": "markdown",
   "metadata": {},
   "source": [
    "On average 38% passengers survived. Considered passengers age is on average 29.7.\n",
    "About 40% has family on board. For almost 80% we do not have data about having cabin. Avarage fare is 32, but median is only 14.5 what suggest skewed distribution. Data values seems to be OK. I assume that passengers with fare equal to zero are crew."
   ]
  },
  {
   "cell_type": "code",
   "execution_count": null,
   "metadata": {
    "collapsed": false
   },
   "outputs": [],
   "source": [
    "data.corr()"
   ]
  },
  {
   "cell_type": "code",
   "execution_count": null,
   "metadata": {
    "collapsed": false
   },
   "outputs": [],
   "source": [
    "sns.heatmap(data.corr(),square = True);"
   ]
  },
  {
   "cell_type": "markdown",
   "metadata": {},
   "source": [
    "It seems that survival is correlated with Fare, Pclass, having cabin, but also with having family on board. Correlation with having parents/children seems to be higher than with having siblings/spouse. Also Fare, Pclass and having cabin has rather high correlation between each other. In the next step I am going to statistically test significance of these correlations."
   ]
  },
  {
   "cell_type": "code",
   "execution_count": null,
   "metadata": {
    "collapsed": false
   },
   "outputs": [],
   "source": [
    "for x in data.drop(['PassengerId','Survived'],axis=1).columns[data.drop(['PassengerId','Survived'],\\\n",
    "                                                                        axis=1).dtypes!='O']:\n",
    "    cor = pearsonr(data.ix[data[x].notnull(),'Survived'],data.ix[data[x].notnull(),x])\n",
    "    print x, 'Corr:', cor[0], 'p-value:', cor[1]"
   ]
  },
  {
   "cell_type": "code",
   "execution_count": null,
   "metadata": {
    "collapsed": false
   },
   "outputs": [],
   "source": [
    "plot_count('Pclass')"
   ]
  },
  {
   "cell_type": "code",
   "execution_count": null,
   "metadata": {
    "collapsed": false
   },
   "outputs": [],
   "source": [
    "tab_count_surv('Pclass')"
   ]
  },
  {
   "cell_type": "code",
   "execution_count": null,
   "metadata": {
    "collapsed": false
   },
   "outputs": [],
   "source": [
    "chi2_pvalue('Pclass')"
   ]
  },
  {
   "cell_type": "markdown",
   "metadata": {},
   "source": [
    "The higher class the higher survival rate. Differences between class are statistically significant due to chi2 test. From above charts we can also see that most of passengers was in 3rd class"
   ]
  },
  {
   "cell_type": "code",
   "execution_count": null,
   "metadata": {
    "collapsed": false
   },
   "outputs": [],
   "source": [
    "data['Age'].plot(kind='hist');"
   ]
  },
  {
   "cell_type": "markdown",
   "metadata": {},
   "source": [
    "We can observe that mostly 20-40 years old people were traveling by Titanic. In addition some of them had young\n",
    "children with them."
   ]
  },
  {
   "cell_type": "code",
   "execution_count": null,
   "metadata": {
    "collapsed": true
   },
   "outputs": [],
   "source": [
    "data['age_bin']=pd.cut(data['Age'],bins=[0,5,10,20,30,40,50,60,100])"
   ]
  },
  {
   "cell_type": "code",
   "execution_count": null,
   "metadata": {
    "collapsed": false
   },
   "outputs": [],
   "source": [
    "tab_count_surv('age_bin')"
   ]
  },
  {
   "cell_type": "markdown",
   "metadata": {},
   "source": [
    "As difference is visible only for chldren below 5 years I will recalculate bins"
   ]
  },
  {
   "cell_type": "code",
   "execution_count": null,
   "metadata": {
    "collapsed": false
   },
   "outputs": [],
   "source": [
    "data['age_bin']=pd.cut(data['Age'],bins=[0,5,100])"
   ]
  },
  {
   "cell_type": "code",
   "execution_count": null,
   "metadata": {
    "collapsed": false
   },
   "outputs": [],
   "source": [
    "chi2_pvalue('age_bin')"
   ]
  },
  {
   "cell_type": "markdown",
   "metadata": {},
   "source": [
    "Children up to five years has significantly higher survival ratio"
   ]
  },
  {
   "cell_type": "code",
   "execution_count": null,
   "metadata": {
    "collapsed": true
   },
   "outputs": [],
   "source": [
    "data['age_bin']=pd.cut(data['Age'],bins=[0,1,2,3,4,5,10,20,30,40,50,60,100])"
   ]
  },
  {
   "cell_type": "markdown",
   "metadata": {},
   "source": [
    "I would like to see if there is any interaction for age and having family (I assume lower survival rate for children without family)"
   ]
  },
  {
   "cell_type": "code",
   "execution_count": null,
   "metadata": {
    "collapsed": false
   },
   "outputs": [],
   "source": [
    "data.pivot_table(index='age_bin',columns='has_family',values='Survived',aggfunc=np.mean)"
   ]
  },
  {
   "cell_type": "markdown",
   "metadata": {},
   "source": [
    "Most of young children (below 10 years old) traveled with family. For people older than ten years in almost all categories having family was increasing survival ratio."
   ]
  },
  {
   "cell_type": "code",
   "execution_count": null,
   "metadata": {
    "collapsed": false
   },
   "outputs": [],
   "source": [
    "tab_count_surv('has_family')"
   ]
  },
  {
   "cell_type": "code",
   "execution_count": null,
   "metadata": {
    "collapsed": false
   },
   "outputs": [],
   "source": [
    "chi2_pvalue('has_family')"
   ]
  },
  {
   "cell_type": "markdown",
   "metadata": {},
   "source": [
    "And we can see that having family was significantly increasing survival ratio."
   ]
  },
  {
   "cell_type": "markdown",
   "metadata": {},
   "source": [
    "I would like to have equal bins for fare, so I calculate percentiles excluding zeros"
   ]
  },
  {
   "cell_type": "code",
   "execution_count": null,
   "metadata": {
    "collapsed": false
   },
   "outputs": [],
   "source": [
    "data.ix[data['Fare']>0,'Fare'].describe(percentiles=[0,.2,.4,.6,.8,1])"
   ]
  },
  {
   "cell_type": "code",
   "execution_count": null,
   "metadata": {
    "collapsed": true
   },
   "outputs": [],
   "source": [
    "data['Fare_bin']=pd.cut(data['Fare'],bins=[0,4.01,7.89,11.13,23,40.125,513],right=False)"
   ]
  },
  {
   "cell_type": "code",
   "execution_count": null,
   "metadata": {
    "collapsed": false
   },
   "outputs": [],
   "source": [
    "tab_count_surv('Fare_bin')"
   ]
  },
  {
   "cell_type": "code",
   "execution_count": null,
   "metadata": {
    "collapsed": false
   },
   "outputs": [],
   "source": [
    "chi2_pvalue('Fare_bin')"
   ]
  },
  {
   "cell_type": "markdown",
   "metadata": {},
   "source": [
    "Survival significantly depends on fare paid for travel. There is only one exception - first non zero category has higher survival rate then following one. It is probably effect of some kind of interaction"
   ]
  },
  {
   "cell_type": "markdown",
   "metadata": {},
   "source": [
    "I am recalculating again age bins to compare it with fare bins."
   ]
  },
  {
   "cell_type": "code",
   "execution_count": null,
   "metadata": {
    "collapsed": true
   },
   "outputs": [],
   "source": [
    "data['age_bin']=pd.cut(data['Age'],bins=[0,10,20,30,40,50,60,100])"
   ]
  },
  {
   "cell_type": "markdown",
   "metadata": {},
   "source": [
    "Below table shows fraction of age bins per fare bin. Rows sums up to 1."
   ]
  },
  {
   "cell_type": "code",
   "execution_count": null,
   "metadata": {
    "collapsed": false
   },
   "outputs": [],
   "source": [
    "data.pivot_table(index='Fare_bin',columns='age_bin',values='PassengerId',aggfunc='count').div(\n",
    "data.pivot_table(index='Fare_bin',columns='age_bin',values='PassengerId',aggfunc='count').sum(axis=1),axis=0)"
   ]
  },
  {
   "cell_type": "code",
   "execution_count": null,
   "metadata": {
    "collapsed": false
   },
   "outputs": [],
   "source": [
    "data.pivot_table(index='Fare_bin',columns='age_bin',values='Survived',aggfunc=np.mean)"
   ]
  },
  {
   "cell_type": "markdown",
   "metadata": {},
   "source": [
    "There is overrepresentation of young and healthy people(20-30 years old) in lowest non zero fare group and it can be cause of higher survival rate there. I assume it can be some kind of \"special\" group there as their survival ratio is very high for this fare class."
   ]
  },
  {
   "cell_type": "code",
   "execution_count": null,
   "metadata": {
    "collapsed": false
   },
   "outputs": [],
   "source": [
    "plot_count('has_cabin')"
   ]
  },
  {
   "cell_type": "code",
   "execution_count": null,
   "metadata": {
    "collapsed": false
   },
   "outputs": [],
   "source": [
    "tab_count_surv('has_cabin')"
   ]
  },
  {
   "cell_type": "code",
   "execution_count": null,
   "metadata": {
    "collapsed": false
   },
   "outputs": [],
   "source": [
    "chi2_pvalue('has_cabin')"
   ]
  },
  {
   "cell_type": "markdown",
   "metadata": {},
   "source": [
    "Having cabin also significantly improve survival ratio, but we have to remember it is correlated also with wealth (defined by paid fare and Pclass)"
   ]
  },
  {
   "cell_type": "code",
   "execution_count": null,
   "metadata": {
    "collapsed": false
   },
   "outputs": [],
   "source": [
    "tab_count_surv('Embarked')"
   ]
  },
  {
   "cell_type": "code",
   "execution_count": null,
   "metadata": {
    "collapsed": false
   },
   "outputs": [],
   "source": [
    "chi2_pvalue('Embarked')"
   ]
  },
  {
   "cell_type": "code",
   "execution_count": null,
   "metadata": {
    "collapsed": false
   },
   "outputs": [],
   "source": [
    "data.pivot_table(index='Fare_bin',columns='Embarked',values='PassengerId',aggfunc='count')"
   ]
  },
  {
   "cell_type": "markdown",
   "metadata": {},
   "source": [
    "Cherbourg has highest survival ratio, what shouldn't occur. It is probably caused by higher ratio of wealthy people embarking there."
   ]
  },
  {
   "cell_type": "markdown",
   "metadata": {},
   "source": [
    "## Summary\n",
    "Survival seems to depend mostly on wealth of passenger (Pclads, fare and having cabin) and on having family."
   ]
  }
 ],
 "metadata": {
  "kernelspec": {
   "display_name": "Python 2",
   "language": "python",
   "name": "python2"
  },
  "language_info": {
   "codemirror_mode": {
    "name": "ipython",
    "version": 2
   },
   "file_extension": ".py",
   "mimetype": "text/x-python",
   "name": "python",
   "nbconvert_exporter": "python",
   "pygments_lexer": "ipython2",
   "version": "2.7.11"
  }
 },
 "nbformat": 4,
 "nbformat_minor": 0
}
